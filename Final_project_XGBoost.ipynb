{
 "cells": [
  {
   "cell_type": "code",
   "execution_count": 12,
   "id": "2b55773b28010ceb",
   "metadata": {
    "ExecuteTime": {
     "end_time": "2025-04-23T21:47:52.657085Z",
     "start_time": "2025-04-23T21:47:52.622561Z"
    }
   },
   "outputs": [],
   "source": [
    "import os\n",
    "import pandas as pd\n",
    "import numpy as np\n",
    "import ast\n",
    "import xgboost as xgb\n",
    "from rapidfuzz import process, fuzz\n",
    "from sklearn.preprocessing import LabelEncoder, StandardScaler\n",
    "from sklearn.model_selection import train_test_split, GridSearchCV\n",
    "from sklearn.ensemble import RandomForestRegressor\n",
    "from sklearn.metrics import root_mean_squared_error, mean_squared_error, r2_score"
   ]
  },
  {
   "cell_type": "code",
   "execution_count": 2,
   "id": "cf4f7c5e555a2de6",
   "metadata": {
    "ExecuteTime": {
     "end_time": "2025-04-23T21:44:30.803056Z",
     "start_time": "2025-04-23T21:44:30.466213Z"
    }
   },
   "outputs": [],
   "source": [
    "df = pd.read_csv(os.path.join(os.getcwd(), \"airbnbListingsData.csv\"))"
   ]
  },
  {
   "cell_type": "code",
   "execution_count": 3,
   "id": "d32742cd34c2d67a",
   "metadata": {
    "ExecuteTime": {
     "end_time": "2025-04-23T21:44:32.084377Z",
     "start_time": "2025-04-23T21:44:32.072408Z"
    }
   },
   "outputs": [],
   "source": [
    "dropping_col = [ 'host_name',\n",
    " 'host_location',\n",
    " 'host_about',\n",
    " 'host_response_rate',\n",
    " 'host_acceptance_rate',\n",
    " 'host_total_listings_count',\n",
    " 'host_has_profile_pic',\n",
    " 'host_identity_verified',\n",
    " 'n_host_verifications',\n",
    " 'calculated_host_listings_count_entire_homes',\n",
    " 'calculated_host_listings_count_private_rooms',\n",
    " 'calculated_host_listings_count_shared_rooms', 'neighborhood_overview', 'name', 'description']\n",
    "df.drop(columns=dropping_col, errors='ignore', inplace=True)"
   ]
  },
  {
   "cell_type": "code",
   "execution_count": 4,
   "id": "3da02aa537bb05cc",
   "metadata": {
    "ExecuteTime": {
     "end_time": "2025-04-23T21:44:33.847350Z",
     "start_time": "2025-04-23T21:44:33.832325Z"
    }
   },
   "outputs": [
    {
     "name": "stderr",
     "output_type": "stream",
     "text": [
      "/var/folders/ly/ss5m0vzd5tx1v916jw_h0kpw0000gn/T/ipykernel_58771/3290672466.py:7: FutureWarning: A value is trying to be set on a copy of a DataFrame or Series through chained assignment using an inplace method.\n",
      "The behavior will change in pandas 3.0. This inplace method will never work because the intermediate object on which we are setting values always behaves as a copy.\n",
      "\n",
      "For example, when doing 'df[col].method(value, inplace=True)', try using 'df.method({col: value}, inplace=True)' or df[col] = df[col].method(value) instead, to perform the operation inplace on the original object.\n",
      "\n",
      "\n",
      "  df[c].fillna(df[c].mean(), inplace=True)\n",
      "/var/folders/ly/ss5m0vzd5tx1v916jw_h0kpw0000gn/T/ipykernel_58771/3290672466.py:5: FutureWarning: A value is trying to be set on a copy of a DataFrame or Series through chained assignment using an inplace method.\n",
      "The behavior will change in pandas 3.0. This inplace method will never work because the intermediate object on which we are setting values always behaves as a copy.\n",
      "\n",
      "For example, when doing 'df[col].method(value, inplace=True)', try using 'df.method({col: value}, inplace=True)' or df[col] = df[col].method(value) instead, to perform the operation inplace on the original object.\n",
      "\n",
      "\n",
      "  df[c].fillna('Unknown', inplace=True)\n"
     ]
    }
   ],
   "source": [
    "# ─────────── Missing Values ───────────\n",
    "#   object→'Unknown', numeric→mean\n",
    "for c in df.columns:\n",
    "    if df[c].dtype == 'object':\n",
    "        df[c].fillna('Unknown', inplace=True)\n",
    "    else:\n",
    "        df[c].fillna(df[c].mean(), inplace=True)"
   ]
  },
  {
   "cell_type": "code",
   "execution_count": 5,
   "id": "9773dd838943a262",
   "metadata": {
    "ExecuteTime": {
     "end_time": "2025-04-23T21:44:56.566793Z",
     "start_time": "2025-04-23T21:44:56.562893Z"
    }
   },
   "outputs": [],
   "source": [
    "# ─────────── Price & Log-Transform ───────────\n",
    "df['price'] = df['price'].replace('[\\$,]', '', regex=True).astype(float)\n",
    "df['log_price'] = np.log1p(df['price'])"
   ]
  },
  {
   "cell_type": "code",
   "execution_count": 6,
   "id": "cc056879aabab6c6",
   "metadata": {
    "ExecuteTime": {
     "end_time": "2025-04-23T21:45:08.879069Z",
     "start_time": "2025-04-23T21:44:58.210168Z"
    }
   },
   "outputs": [],
   "source": [
    "# ─────────── Amenities Normalize & Prune ───────────\n",
    "df['amenities'] = df['amenities'].apply(lambda x: ast.literal_eval(x) if isinstance(x, str) else [])\n",
    "standard_amenities = {\n",
    "    'wifi': ['wifi', 'fast wifi'],\n",
    "    'tv': ['tv', 'hdtv', 'flat screen'],\n",
    "    'streaming_services': ['netflix', 'hbo max', 'amazon prime video', 'apple tv', 'chromecast', 'roku'],\n",
    "    'body_soap': ['body soap', 'bar soap', 'body wash'],\n",
    "    'shampoo': ['shampoo'],\n",
    "    'conditioner': ['conditioner'],\n",
    "    'sound_system': ['sound system', 'bluetooth sound system', 'speaker'],\n",
    "    'oven': ['oven', 'air fryer'],\n",
    "    'stove': ['stove', 'gas stove', 'electric stove'],\n",
    "    'workspace': ['workspace', 'monitor', 'desk', 'office chair'],\n",
    "    'refrigerator': ['refrigerator', 'fridge', 'mini fridge'],\n",
    "    'parking': ['parking', 'garage', 'driveway'],\n",
    "    'children_amenities': ['children', 'books and toys', 'crib', 'baby bath'],\n",
    "    'gym': ['gym', 'fitness'],\n",
    "    'pool': ['pool', 'rooftop pool', 'heated pool']\n",
    "}\n",
    "\n",
    "def normalize(a):\n",
    "    a = a.lower()\n",
    "    for cat, kws in standard_amenities.items():\n",
    "        match, score, _ = process.extractOne(a, kws, scorer=fuzz.partial_ratio) or (None, 0, None)\n",
    "        if score > 80:\n",
    "            return cat\n",
    "    return None\n",
    "\n",
    "df['norm_amenities'] = df['amenities'].apply(lambda L: {normalize(a) for a in L if normalize(a)})\n",
    "\n",
    "# Build binary columns for the 20 most common normalized amenities\n",
    "all_norms = set().union(*df['norm_amenities'])\n",
    "amen_df = pd.DataFrame([{n: int(n in norms) for n in all_norms} for norms in df['norm_amenities']])\n",
    "freq    = amen_df.sum().sort_values(ascending=False)\n",
    "top20   = freq.index[:20]\n",
    "amen_df = amen_df[top20]                            # keep just top 20\n",
    "df['amenity_count'] = amen_df.sum(axis=1)\n",
    "df = pd.concat([df, amen_df], axis=1)\n",
    "\n",
    "# ─────────── Final Cleanup ───────────\n",
    "# drop raw columns no longer needed\n",
    "df.drop(columns=['amenities','norm_amenities','price'], inplace=True)"
   ]
  },
  {
   "cell_type": "code",
   "execution_count": 7,
   "id": "77444fde73bc60fb",
   "metadata": {
    "ExecuteTime": {
     "end_time": "2025-04-23T21:45:10.772993Z",
     "start_time": "2025-04-23T21:45:10.750834Z"
    }
   },
   "outputs": [],
   "source": [
    "# ─────────── One-Hot & Boolean Encode ───────────\n",
    "df = pd.get_dummies(df, columns=['neighbourhood_group_cleansed','room_type'])\n",
    "bools = df.select_dtypes(include='bool').columns\n",
    "for b in bools:\n",
    "    df[b] = LabelEncoder().fit_transform(df[b])"
   ]
  },
  {
   "cell_type": "code",
   "execution_count": 36,
   "id": "5349b422ef670527",
   "metadata": {
    "ExecuteTime": {
     "end_time": "2025-04-24T00:24:41.708439Z",
     "start_time": "2025-04-24T00:24:41.689869Z"
    }
   },
   "outputs": [],
   "source": [
    "# ─────────── Train/Test Split & Model ───────────\n",
    "X = df.drop(columns='log_price')\n",
    "y = df['log_price']\n",
    "X_train, X_test, y_train, y_test = train_test_split(X, y, test_size=0.33)"
   ]
  },
  {
   "cell_type": "code",
   "execution_count": 11,
   "id": "96610611",
   "metadata": {
    "ExecuteTime": {
     "end_time": "2025-04-23T21:46:54.876906Z",
     "start_time": "2025-04-23T21:46:30.511473Z"
    }
   },
   "outputs": [
    {
     "name": "stdout",
     "output_type": "stream",
     "text": [
      "Training RandomForest…\n",
      "MSE: 0.14025548779124986\n",
      "RMSE (log): 0.37450699298043805\n",
      "R² (log): 0.7089545968191524\n"
     ]
    }
   ],
   "source": [
    "rf = RandomForestRegressor(n_estimators=200, random_state=1234)\n",
    "rf.fit(X_train, y_train)\n",
    "preds = rf.predict(X_test)\n",
    "\n",
    "print(\"MSE:\", mean_squared_error(y_test, preds))\n",
    "print(\"RMSE (log):\", root_mean_squared_error(y_test, preds))\n",
    "print(\"R² (log):\",  r2_score(y_test, preds))"
   ]
  },
  {
   "cell_type": "code",
   "execution_count": 41,
   "id": "8eee671be9596446",
   "metadata": {
    "ExecuteTime": {
     "end_time": "2025-04-24T00:25:24.145189Z",
     "start_time": "2025-04-24T00:25:18.500961Z"
    }
   },
   "outputs": [
    {
     "name": "stdout",
     "output_type": "stream",
     "text": [
      "MSE: 0.13368560249702366\n",
      "RMSE (log): 0.36563041790450596\n",
      "R² (log): 0.7185300228469576\n"
     ]
    }
   ],
   "source": [
    "# model = xgb.XGBRegressor(\n",
    "#             objective='reg:squarederror',\n",
    "#             n_estimators=700,\n",
    "#             learning_rate=0.01,\n",
    "#             max_depth=6,\n",
    "#             reg_alpha=0.1,\n",
    "#             reg_lambda=1.0,\n",
    "#         )\n",
    "\n",
    "model = xgb.XGBRegressor(\n",
    "            objective='reg:squarederror',\n",
    "            n_estimators=2500,\n",
    "            learning_rate=0.01,\n",
    "            subsample=0.8,\n",
    "            max_depth=7,\n",
    "            reg_alpha=0.2,\n",
    "            reg_lambda=0.8,\n",
    "        )\n",
    "\n",
    "model.scaler = StandardScaler()\n",
    "model.feature_selector = None\n",
    "\n",
    "model.fit(X_train, y_train)\n",
    "xgb_preds = model.predict(X_test)\n",
    "\n",
    "print(\"MSE:\", mean_squared_error(y_test, xgb_preds))\n",
    "print(\"RMSE (log):\", root_mean_squared_error(y_test, xgb_preds))\n",
    "print(\"R² (log):\",  r2_score(y_test, xgb_preds))"
   ]
  },
  {
   "cell_type": "code",
   "execution_count": 30,
   "id": "97c8ebec65bab248",
   "metadata": {
    "ExecuteTime": {
     "end_time": "2025-04-24T00:22:03.817833Z",
     "start_time": "2025-04-24T00:21:13.115890Z"
    }
   },
   "outputs": [
    {
     "name": "stdout",
     "output_type": "stream",
     "text": [
      "{'learning_rate': 0.01, 'max_depth': 7, 'n_estimators': 1700, 'reg_alpha': 0.2, 'reg_lambda': 0.8, 'subsample': 0.8}\n"
     ]
    }
   ],
   "source": [
    "param_grid = {\n",
    "    'max_depth': [7],\n",
    "    'learning_rate': [0.01],\n",
    "    'n_estimators': [1300, 1500, 1700],\n",
    "    'subsample': [0.8],\n",
    "    'reg_alpha': [0.2],\n",
    "    'reg_lambda': [0.8],\n",
    "}\n",
    "\n",
    "grid_search = GridSearchCV(estimator=model, param_grid=param_grid, cv=5, scoring='neg_mean_squared_error')\n",
    "grid_search.fit(X_train, y_train)\n",
    "print(grid_search.best_params_)"
   ]
  }
 ],
 "metadata": {
  "kernelspec": {
   "display_name": "3.9.9",
   "language": "python",
   "name": "python3"
  },
  "language_info": {
   "codemirror_mode": {
    "name": "ipython",
    "version": 3
   },
   "file_extension": ".py",
   "mimetype": "text/x-python",
   "name": "python",
   "nbconvert_exporter": "python",
   "pygments_lexer": "ipython3",
   "version": "3.9.9"
  }
 },
 "nbformat": 4,
 "nbformat_minor": 5
}
