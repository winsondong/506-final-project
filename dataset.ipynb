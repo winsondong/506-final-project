{
 "cells": [
  {
   "cell_type": "code",
   "execution_count": null,
   "metadata": {},
   "outputs": [],
   "source": [
    "import pandas as pd\n",
    "import numpy as np\n",
    "import os \n",
    "import matplotlib.pyplot as plt\n",
    "import seaborn as sns\n",
    "import ast"
   ]
  },
  {
   "cell_type": "code",
   "execution_count": 18,
   "metadata": {},
   "outputs": [
    {
     "data": {
      "text/plain": [
       "['name',\n",
       " 'description',\n",
       " 'neighborhood_overview',\n",
       " 'host_name',\n",
       " 'host_location',\n",
       " 'host_about',\n",
       " 'host_response_rate',\n",
       " 'host_acceptance_rate',\n",
       " 'host_is_superhost',\n",
       " 'host_listings_count',\n",
       " 'host_total_listings_count',\n",
       " 'host_has_profile_pic',\n",
       " 'host_identity_verified',\n",
       " 'neighbourhood_group_cleansed',\n",
       " 'room_type',\n",
       " 'accommodates',\n",
       " 'bathrooms',\n",
       " 'bedrooms',\n",
       " 'beds',\n",
       " 'amenities',\n",
       " 'price',\n",
       " 'minimum_nights',\n",
       " 'maximum_nights',\n",
       " 'minimum_minimum_nights',\n",
       " 'maximum_minimum_nights',\n",
       " 'minimum_maximum_nights',\n",
       " 'maximum_maximum_nights',\n",
       " 'minimum_nights_avg_ntm',\n",
       " 'maximum_nights_avg_ntm',\n",
       " 'has_availability',\n",
       " 'availability_30',\n",
       " 'availability_60',\n",
       " 'availability_90',\n",
       " 'availability_365',\n",
       " 'number_of_reviews',\n",
       " 'number_of_reviews_ltm',\n",
       " 'number_of_reviews_l30d',\n",
       " 'review_scores_rating',\n",
       " 'review_scores_cleanliness',\n",
       " 'review_scores_checkin',\n",
       " 'review_scores_communication',\n",
       " 'review_scores_location',\n",
       " 'review_scores_value',\n",
       " 'instant_bookable',\n",
       " 'calculated_host_listings_count',\n",
       " 'calculated_host_listings_count_entire_homes',\n",
       " 'calculated_host_listings_count_private_rooms',\n",
       " 'calculated_host_listings_count_shared_rooms',\n",
       " 'reviews_per_month',\n",
       " 'n_host_verifications']"
      ]
     },
     "execution_count": 18,
     "metadata": {},
     "output_type": "execute_result"
    }
   ],
   "source": [
    "airbnbDataSet_filename = os.path.join(os.getcwd(), \"airbnbListingsData.csv\")\n",
    "\n",
    "df = pd.read_csv(airbnbDataSet_filename, header=0)\n",
    "\n",
    "df.head()\n",
    "\n",
    "list(df.columns)"
   ]
  },
  {
   "cell_type": "code",
   "execution_count": null,
   "metadata": {},
   "outputs": [
    {
     "data": {
      "text/plain": [
       "['neighbourhood_group_cleansed',\n",
       " 'room_type',\n",
       " 'accommodates',\n",
       " 'bathrooms',\n",
       " 'bedrooms',\n",
       " 'beds',\n",
       " 'amenities',\n",
       " 'price',\n",
       " 'minimum_nights',\n",
       " 'maximum_nights',\n",
       " 'minimum_minimum_nights',\n",
       " 'maximum_minimum_nights',\n",
       " 'minimum_maximum_nights',\n",
       " 'maximum_maximum_nights',\n",
       " 'minimum_nights_avg_ntm',\n",
       " 'maximum_nights_avg_ntm',\n",
       " 'has_availability',\n",
       " 'availability_30',\n",
       " 'availability_60',\n",
       " 'availability_90',\n",
       " 'availability_365',\n",
       " 'number_of_reviews',\n",
       " 'number_of_reviews_ltm',\n",
       " 'number_of_reviews_l30d',\n",
       " 'review_scores_rating',\n",
       " 'review_scores_cleanliness',\n",
       " 'review_scores_checkin',\n",
       " 'review_scores_communication',\n",
       " 'review_scores_location',\n",
       " 'review_scores_value',\n",
       " 'instant_bookable',\n",
       " 'reviews_per_month']"
      ]
     },
     "execution_count": 19,
     "metadata": {},
     "output_type": "execute_result"
    }
   ],
   "source": [
    "\n",
    "dropping_col = [ 'host_name',\n",
    " 'host_location',\n",
    " 'host_about',\n",
    " 'host_response_rate',\n",
    " 'host_acceptance_rate',\n",
    " 'host_is_superhost',\n",
    " 'host_listings_count',\n",
    " 'host_total_listings_count',\n",
    " 'host_has_profile_pic',\n",
    " 'host_identity_verified',\n",
    " 'n_host_verifications',\n",
    "'calculated_host_listings_count',\n",
    " 'calculated_host_listings_count_entire_homes',\n",
    " 'calculated_host_listings_count_private_rooms',\n",
    " 'calculated_host_listings_count_shared_rooms', 'neighborhood_overview', 'name', 'description'] \n",
    "\n",
    "# Avoid errors if columns are missing\n",
    "df = df.drop(columns=dropping_col, errors='ignore') \n",
    "\n",
    "list(df.columns)"
   ]
  },
  {
   "cell_type": "code",
   "execution_count": 20,
   "metadata": {},
   "outputs": [
    {
     "name": "stdout",
     "output_type": "stream",
     "text": [
      "Missing Values Before Filling:\n",
      " neighbourhood_group_cleansed       0\n",
      "room_type                          0\n",
      "accommodates                       0\n",
      "bathrooms                          0\n",
      "bedrooms                        2918\n",
      "beds                            1354\n",
      "amenities                          0\n",
      "price                              0\n",
      "minimum_nights                     0\n",
      "maximum_nights                     0\n",
      "minimum_minimum_nights             0\n",
      "maximum_minimum_nights             0\n",
      "minimum_maximum_nights             0\n",
      "maximum_maximum_nights             0\n",
      "minimum_nights_avg_ntm             0\n",
      "maximum_nights_avg_ntm             0\n",
      "has_availability                   0\n",
      "availability_30                    0\n",
      "availability_60                    0\n",
      "availability_90                    0\n",
      "availability_365                   0\n",
      "number_of_reviews                  0\n",
      "number_of_reviews_ltm              0\n",
      "number_of_reviews_l30d             0\n",
      "review_scores_rating               0\n",
      "review_scores_cleanliness          0\n",
      "review_scores_checkin              0\n",
      "review_scores_communication        0\n",
      "review_scores_location             0\n",
      "review_scores_value                0\n",
      "instant_bookable                   0\n",
      "reviews_per_month                  0\n",
      "dtype: int64\n"
     ]
    }
   ],
   "source": [
    "# Check missing values\n",
    "missing_val = df.isnull().sum()\n",
    "print(\"Missing Values Before Filling:\\n\", missing_val)\n",
    "\n"
   ]
  },
  {
   "cell_type": "code",
   "execution_count": 21,
   "metadata": {},
   "outputs": [
    {
     "name": "stdout",
     "output_type": "stream",
     "text": [
      "Missing Values After Filling:\n",
      " neighbourhood_group_cleansed    0\n",
      "room_type                       0\n",
      "accommodates                    0\n",
      "bathrooms                       0\n",
      "bedrooms                        0\n",
      "beds                            0\n",
      "amenities                       0\n",
      "price                           0\n",
      "minimum_nights                  0\n",
      "maximum_nights                  0\n",
      "minimum_minimum_nights          0\n",
      "maximum_minimum_nights          0\n",
      "minimum_maximum_nights          0\n",
      "maximum_maximum_nights          0\n",
      "minimum_nights_avg_ntm          0\n",
      "maximum_nights_avg_ntm          0\n",
      "has_availability                0\n",
      "availability_30                 0\n",
      "availability_60                 0\n",
      "availability_90                 0\n",
      "availability_365                0\n",
      "number_of_reviews               0\n",
      "number_of_reviews_ltm           0\n",
      "number_of_reviews_l30d          0\n",
      "review_scores_rating            0\n",
      "review_scores_cleanliness       0\n",
      "review_scores_checkin           0\n",
      "review_scores_communication     0\n",
      "review_scores_location          0\n",
      "review_scores_value             0\n",
      "instant_bookable                0\n",
      "reviews_per_month               0\n",
      "dtype: int64\n",
      "Updated Columns:\n",
      " ['neighbourhood_group_cleansed', 'room_type', 'accommodates', 'bathrooms', 'bedrooms', 'beds', 'amenities', 'price', 'minimum_nights', 'maximum_nights', 'minimum_minimum_nights', 'maximum_minimum_nights', 'minimum_maximum_nights', 'maximum_maximum_nights', 'minimum_nights_avg_ntm', 'maximum_nights_avg_ntm', 'has_availability', 'availability_30', 'availability_60', 'availability_90', 'availability_365', 'number_of_reviews', 'number_of_reviews_ltm', 'number_of_reviews_l30d', 'review_scores_rating', 'review_scores_cleanliness', 'review_scores_checkin', 'review_scores_communication', 'review_scores_location', 'review_scores_value', 'instant_bookable', 'reviews_per_month']\n"
     ]
    },
    {
     "name": "stderr",
     "output_type": "stream",
     "text": [
      "/var/folders/nf/lqj62v5n3pj50v8m9psrn48c0000gp/T/ipykernel_4120/3499057956.py:4: FutureWarning: A value is trying to be set on a copy of a DataFrame or Series through chained assignment using an inplace method.\n",
      "The behavior will change in pandas 3.0. This inplace method will never work because the intermediate object on which we are setting values always behaves as a copy.\n",
      "\n",
      "For example, when doing 'df[col].method(value, inplace=True)', try using 'df.method({col: value}, inplace=True)' or df[col] = df[col].method(value) instead, to perform the operation inplace on the original object.\n",
      "\n",
      "\n",
      "  df[col].fillna('Unknown', inplace=True)\n",
      "/var/folders/nf/lqj62v5n3pj50v8m9psrn48c0000gp/T/ipykernel_4120/3499057956.py:6: FutureWarning: A value is trying to be set on a copy of a DataFrame or Series through chained assignment using an inplace method.\n",
      "The behavior will change in pandas 3.0. This inplace method will never work because the intermediate object on which we are setting values always behaves as a copy.\n",
      "\n",
      "For example, when doing 'df[col].method(value, inplace=True)', try using 'df.method({col: value}, inplace=True)' or df[col] = df[col].method(value) instead, to perform the operation inplace on the original object.\n",
      "\n",
      "\n",
      "  df[col].fillna(df[col].mean(), inplace=True)\n"
     ]
    }
   ],
   "source": [
    "\n",
    "# Fill missing values: numeric columns -> mean, categorical columns -> 'Unknown'\n",
    "for col in df.columns:\n",
    "    if df[col].dtype == 'object':  # Categorical column\n",
    "        df[col].fillna('Unknown', inplace=True)\n",
    "    else:  # Numeric column\n",
    "        df[col].fillna(df[col].mean(), inplace=True)\n",
    "\n",
    "\n",
    "# Check missing values after filling\n",
    "missing_val_after = df.isnull().sum()\n",
    "print(\"Missing Values After Filling:\\n\", missing_val_after)\n",
    "\n",
    "# Display updated column list\n",
    "print(\"Updated Columns:\\n\", list(df.columns))"
   ]
  },
  {
   "cell_type": "code",
   "execution_count": 22,
   "metadata": {},
   "outputs": [],
   "source": [
    "\n",
    "# Separate categorical and numerical features\n",
    "categorical_features = df.select_dtypes(include=['object']).columns\n",
    "numerical_features = df.select_dtypes(exclude=['object']).columns\n",
    "\n",
    "# Convert 'price' to numeric, removing non-numeric characters (like '$' or commas)\n",
    "df['price'] = df['price'].replace('[\\$,]', '', regex=True).astype(float)\n",
    "\n"
   ]
  },
  {
   "cell_type": "code",
   "execution_count": 23,
   "metadata": {},
   "outputs": [],
   "source": [
    "# Convert 'amenities' column (which contains lists as strings) into actual lists\n",
    "df['amenities'] = df['amenities'].apply(lambda x: ast.literal_eval(x) if isinstance(x, str) else [])\n",
    "\n",
    "# Convert each list of amenities into a set\n",
    "df['amenities'] = df['amenities'].apply(set)"
   ]
  },
  {
   "cell_type": "code",
   "execution_count": null,
   "metadata": {},
   "outputs": [],
   "source": [
    "# Gather all unique amenities\n",
    "all_amenities = set()\n",
    "\n",
    "for amenities in df['amenities']:\n",
    "    all_amenities.update(amenities)\n",
    "\n",
    "\n",
    "    \n"
   ]
  },
  {
   "cell_type": "code",
   "execution_count": 24,
   "metadata": {},
   "outputs": [
    {
     "ename": "KeyboardInterrupt",
     "evalue": "",
     "output_type": "error",
     "traceback": [
      "\u001b[0;31m---------------------------------------------------------------------------\u001b[0m",
      "\u001b[0;31mKeyboardInterrupt\u001b[0m                         Traceback (most recent call last)",
      "Cell \u001b[0;32mIn[24], line 2\u001b[0m\n\u001b[1;32m      1\u001b[0m \u001b[38;5;66;03m# Convert amenities into binary columns (1 if present, 0 if not)\u001b[39;00m\n\u001b[0;32m----> 2\u001b[0m amenities_df \u001b[38;5;241m=\u001b[39m pd\u001b[38;5;241m.\u001b[39mDataFrame([{amenity: (amenity \u001b[38;5;129;01min\u001b[39;00m amenities) \u001b[38;5;28;01mfor\u001b[39;00m amenity \u001b[38;5;129;01min\u001b[39;00m all_amenities} \u001b[38;5;28;01mfor\u001b[39;00m amenities \u001b[38;5;129;01min\u001b[39;00m df[\u001b[38;5;124m'\u001b[39m\u001b[38;5;124mamenities\u001b[39m\u001b[38;5;124m'\u001b[39m]])\n\u001b[1;32m      4\u001b[0m \u001b[38;5;66;03m# Drop original 'amenities' column and merge the new binary features\u001b[39;00m\n\u001b[1;32m      5\u001b[0m df \u001b[38;5;241m=\u001b[39m df\u001b[38;5;241m.\u001b[39mdrop(columns\u001b[38;5;241m=\u001b[39m\u001b[38;5;124m'\u001b[39m\u001b[38;5;124mamenities\u001b[39m\u001b[38;5;124m'\u001b[39m)\n",
      "Cell \u001b[0;32mIn[24], line 2\u001b[0m, in \u001b[0;36m<listcomp>\u001b[0;34m(.0)\u001b[0m\n\u001b[1;32m      1\u001b[0m \u001b[38;5;66;03m# Convert amenities into binary columns (1 if present, 0 if not)\u001b[39;00m\n\u001b[0;32m----> 2\u001b[0m amenities_df \u001b[38;5;241m=\u001b[39m pd\u001b[38;5;241m.\u001b[39mDataFrame([{amenity: (amenity \u001b[38;5;129;01min\u001b[39;00m amenities) \u001b[38;5;28;01mfor\u001b[39;00m amenity \u001b[38;5;129;01min\u001b[39;00m all_amenities} \u001b[38;5;28;01mfor\u001b[39;00m amenities \u001b[38;5;129;01min\u001b[39;00m df[\u001b[38;5;124m'\u001b[39m\u001b[38;5;124mamenities\u001b[39m\u001b[38;5;124m'\u001b[39m]])\n\u001b[1;32m      4\u001b[0m \u001b[38;5;66;03m# Drop original 'amenities' column and merge the new binary features\u001b[39;00m\n\u001b[1;32m      5\u001b[0m df \u001b[38;5;241m=\u001b[39m df\u001b[38;5;241m.\u001b[39mdrop(columns\u001b[38;5;241m=\u001b[39m\u001b[38;5;124m'\u001b[39m\u001b[38;5;124mamenities\u001b[39m\u001b[38;5;124m'\u001b[39m)\n",
      "Cell \u001b[0;32mIn[24], line 2\u001b[0m, in \u001b[0;36m<dictcomp>\u001b[0;34m(.0)\u001b[0m\n\u001b[1;32m      1\u001b[0m \u001b[38;5;66;03m# Convert amenities into binary columns (1 if present, 0 if not)\u001b[39;00m\n\u001b[0;32m----> 2\u001b[0m amenities_df \u001b[38;5;241m=\u001b[39m pd\u001b[38;5;241m.\u001b[39mDataFrame([{amenity: (amenity \u001b[38;5;129;01min\u001b[39;00m amenities) \u001b[38;5;28;01mfor\u001b[39;00m amenity \u001b[38;5;129;01min\u001b[39;00m all_amenities} \u001b[38;5;28;01mfor\u001b[39;00m amenities \u001b[38;5;129;01min\u001b[39;00m df[\u001b[38;5;124m'\u001b[39m\u001b[38;5;124mamenities\u001b[39m\u001b[38;5;124m'\u001b[39m]])\n\u001b[1;32m      4\u001b[0m \u001b[38;5;66;03m# Drop original 'amenities' column and merge the new binary features\u001b[39;00m\n\u001b[1;32m      5\u001b[0m df \u001b[38;5;241m=\u001b[39m df\u001b[38;5;241m.\u001b[39mdrop(columns\u001b[38;5;241m=\u001b[39m\u001b[38;5;124m'\u001b[39m\u001b[38;5;124mamenities\u001b[39m\u001b[38;5;124m'\u001b[39m)\n",
      "\u001b[0;31mKeyboardInterrupt\u001b[0m: "
     ]
    }
   ],
   "source": [
    "\n",
    "# Convert amenities into binary columns (1 if present, 0 if not)\n",
    "amenities_df = pd.DataFrame([{amenity: (amenity in amenities) for amenity in all_amenities} for amenities in df['amenities']])\n",
    "\n",
    "# Drop original 'amenities' column and merge the new binary features\n",
    "df = df.drop(columns='amenities')\n",
    "df = df.join(amenities_df)\n",
    "\n",
    "# One-hot encode categorical features\n",
    "categorical_features = ['neighbourhood_group_cleansed', 'room_type']\n",
    "df = pd.get_dummies(df, columns=categorical_features)\n",
    "\n",
    "# Display final dataset structure\n",
    "print(\"Final DataFrame Shape:\", df.shape)\n",
    "print(\"Final Columns:\", df.columns)\n"
   ]
  }
 ],
 "metadata": {
  "kernelspec": {
   "display_name": "3.9.9",
   "language": "python",
   "name": "python3"
  },
  "language_info": {
   "codemirror_mode": {
    "name": "ipython",
    "version": 3
   },
   "file_extension": ".py",
   "mimetype": "text/x-python",
   "name": "python",
   "nbconvert_exporter": "python",
   "pygments_lexer": "ipython3",
   "version": "3.9.9"
  }
 },
 "nbformat": 4,
 "nbformat_minor": 2
}
